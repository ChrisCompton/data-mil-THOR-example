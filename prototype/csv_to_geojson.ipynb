{
 "cells": [
  {
   "cell_type": "code",
   "execution_count": 1,
   "metadata": {
    "collapsed": true
   },
   "outputs": [],
   "source": [
    "import csv\n",
    "\n",
    "# Read in raw data from csv\n",
    "raw_data = csv.reader(open('../data.csv', 'r'))"
   ]
  },
  {
   "cell_type": "code",
   "execution_count": 2,
   "metadata": {
    "collapsed": false
   },
   "outputs": [],
   "source": [
    "# The template where data from the csv will be formatted to geojson\n",
    "template = \\\n",
    "''' \\\n",
    "{{ \"type\": \"Feature\",\n",
    "    \"id\": {0},\n",
    "        \"geometry\": {{\n",
    "            \"type\": \"Point\",\n",
    "            \"coordinates\": [{2}, {1}]}},\n",
    "    \"properties\": {{\"id\": {0}, \"name\": \"{3}\", \"lat\": {1}, \"lon\": {2}, \"2005\": {4}, \"2006\": {5}, \"2007\": {6}, \"2008\": {7}, \"2009\": {8}, \"2010\": {9}, \"2011\": {10}}}\n",
    "    }},\n",
    "'''"
   ]
  },
  {
   "cell_type": "code",
   "execution_count": 3,
   "metadata": {
    "collapsed": true
   },
   "outputs": [],
   "source": [
    "# the head of the geojson file\n",
    "output = \\\n",
    "''' \\\n",
    "{\"type\": \"Feature Collection\",\n",
    "    \"features\": [\n",
    "'''"
   ]
  },
  {
   "cell_type": "code",
   "execution_count": 4,
   "metadata": {
    "collapsed": false
   },
   "outputs": [],
   "source": [
    "# loop through the csv by row skipping the first\n",
    "num = 0\n",
    "for row in raw_data:\n",
    "    num +=1\n",
    "    if num >= 2:\n",
    "        pk = row[0]\n",
    "        name = row[1]\n",
    "        lat = row[2]\n",
    "        long = row[3]\n",
    "        year1 = row[4]\n",
    "        year2 = row[5]\n",
    "        year3 = row[6]\n",
    "        year4 = row[7]\n",
    "        year5 = row[8]\n",
    "        year6 = row[9]\n",
    "        year7 = row[10]\n",
    "        output += template.format(pk, lat, long, name, year1, year2, year3, year4, year5, year6, year7)"
   ]
  },
  {
   "cell_type": "code",
   "execution_count": 10,
   "metadata": {
    "collapsed": false
   },
   "outputs": [
    {
     "data": {
      "text/plain": [
       "' {\"type\": \"Feature Collection\",\\n    \"features\": [\\n { \"type\": \"Feature\",\\n    \"id\": 1,\\n        \"geometry\": {\\n            \"type\": \"Point\",\\n            \"coordinates\": [-84.3881, 33.7489]},\\n    \"properties\": {\"id\": 1, \"name\": \"Atlanta\", \"lat\": 33.7489, \"lon\": -84.3881, \"2005\": 85, \"2006\": 38, \"2007\": 75, \"2008\": 30, \"2009\": 9, \"2010\": 15, \"2011\": 38}\\n    },\\n { \"type\": \"Feature\",\\n    \"id\": 2,\\n        \"geometry\": {\\n            \"type\": \"Point\",\\n            \"coordinates\": [-87.65, 41.85]},\\n    \"properties\": {\"id\": 2, \"name\": \"Chicago\", \"lat\": 41.85, \"lon\": -87.65, \"2005\": 28, \"2006\": 29, \"2007\": 38, \"2008\": 26, \"2009\": 15, \"2010\": 12, \"2011\": 10}\\n    },\\n { \"type\": \"Feature\",\\n    \"id\": 3,\\n        \"geometry\": {\\n            \"type\": \"Point\",\\n            \"coordinates\": [-96.8039, 32.7828]},\\n    \"properties\": {\"id\": 3, \"name\": \"Dallas\", \"lat\": 32.7828, \"lon\": -96.8039, \"2005\": 18, \"2006\": 59, \"2007\": 22, \"2008\": 60, \"2009\": 82, \"2010\": 42, \"2011\": 18}\\n    },\\n { \"type\": \"Feature\",\\n    \"id\": 4,\\n        \"geometry\": {\\n            \"type\": \"Point\",\\n            \"coordinates\": [-104.9842, 39.7392]},\\n    \"properties\": {\"id\": 4, \"name\": \"Denver\", \"lat\": 39.7392, \"lon\": -104.9842, \"2005\": 35, \"2006\": 45, \"2007\": 31, \"2008\": 26, \"2009\": 14, \"2010\": 9, \"2011\": 15}\\n    },\\n { \"type\": \"Feature\",\\n    \"id\": 5,\\n        \"geometry\": {\\n            \"type\": \"Point\",\\n            \"coordinates\": [-95.3631, 29.7631]},\\n    \"properties\": {\"id\": 5, \"name\": \"Houston\", \"lat\": 29.7631, \"lon\": -95.3631, \"2005\": 12, \"2006\": 31, \"2007\": 15, \"2008\": 22, \"2009\": 28, \"2010\": 38, \"2011\": 31}\\n    },\\n { \"type\": \"Feature\",\\n    \"id\": 6,\\n        \"geometry\": {\\n            \"type\": \"Point\",\\n            \"coordinates\": [-94.5783, 39.0997]},\\n    \"properties\": {\"id\": 6, \"name\": \"Kansas City\", \"lat\": 39.0997, \"lon\": -94.5783, \"2005\": 25, \"2006\": 50, \"2007\": 25, \"2008\": 25, \"2009\": 25, \"2010\": 25, \"2011\": 100}\\n    },\\n { \"type\": \"Feature\",\\n    \"id\": 7,\\n        \"geometry\": {\\n            \"type\": \"Point\",\\n            \"coordinates\": [-118.2428, 34.0522]},\\n    \"properties\": {\"id\": 7, \"name\": \"Los Angeles\", \"lat\": 34.0522, \"lon\": -118.2428, \"2005\": 88, \"2006\": 46, \"2007\": 56, \"2008\": 15, \"2009\": 12, \"2010\": 25, \"2011\": 46}\\n    },\\n { \"type\": \"Feature\",\\n    \"id\": 8,\\n        \"geometry\": {\\n            \"type\": \"Point\",\\n            \"coordinates\": [-80.1924, 25.7738]},\\n    \"properties\": {\"id\": 8, \"name\": \"Miami\", \"lat\": 25.7738, \"lon\": -80.1924, \"2005\": 52, \"2006\": 51, \"2007\": 46, \"2008\": 68, \"2009\": 75, \"2010\": 85, \"2011\": 96}\\n    },\\n { \"type\": \"Feature\",\\n    \"id\": 9,\\n        \"geometry\": {\\n            \"type\": \"Point\",\\n            \"coordinates\": [-93.2636, 44.98]},\\n    \"properties\": {\"id\": 9, \"name\": \"Minneapolis\", \"lat\": 44.98, \"lon\": -93.2636, \"2005\": 7, \"2006\": 12, \"2007\": 18, \"2008\": 11, \"2009\": 9, \"2010\": 9, \"2011\": 4}\\n    },\\n { \"type\": \"Feature\",\\n    \"id\": 10,\\n        \"geometry\": {\\n            \"type\": \"Point\",\\n            \"coordinates\": [-74.0064, 40.7142]},\\n    \"properties\": {\"id\": 10, \"name\": \"New York\", \"lat\": 40.7142, \"lon\": -74.0064, \"2005\": 23, \"2006\": 18, \"2007\": 16, \"2008\": 24, \"2009\": 26, \"2010\": 28, \"2011\": 30}\\n    },\\n { \"type\": \"Feature\",\\n    \"id\": 11,\\n        \"geometry\": {\\n            \"type\": \"Point\",\\n            \"coordinates\": [-75.1642, 39.9522]},\\n    \"properties\": {\"id\": 11, \"name\": \"Philadelphia\", \"lat\": 39.9522, \"lon\": -75.1642, \"2005\": 32, \"2006\": 28, \"2007\": 29, \"2008\": 25, \"2009\": 22, \"2010\": 15, \"2011\": 8}\\n    },\\n { \"type\": \"Feature\",\\n    \"id\": 12,\\n        \"geometry\": {\\n            \"type\": \"Point\",\\n            \"coordinates\": [-112.0746, 33.4539]},\\n    \"properties\": {\"id\": 12, \"name\": \"Phoenix\", \"lat\": 33.4539, \"lon\": -112.0746, \"2005\": 8, \"2006\": 15, \"2007\": 22, \"2008\": 25, \"2009\": 29, \"2010\": 28, \"2011\": 32}\\n    },\\n { \"type\": \"Feature\",\\n    \"id\": 13,\\n        \"geometry\": {\\n            \"type\": \"Point\",\\n            \"coordinates\": [-122.4183, 37.775]},\\n    \"properties\": {\"id\": 13, \"name\": \"San Francisco\", \"lat\": 37.775, \"lon\": -122.4183, \"2005\": 82, \"2006\": 74, \"2007\": 72, \"2008\": 10, \"2009\": 85, \"2010\": 88, \"2011\": 74}\\n    },\\n { \"type\": \"Feature\",\\n    \"id\": 14,\\n        \"geometry\": {\\n            \"type\": \"Point\",\\n            \"coordinates\": [-122.3331, 47.6097]},\\n    \"properties\": {\"id\": 14, \"name\": \"Seattle\", \"lat\": 47.6097, \"lon\": -122.3331, \"2005\": 9, \"2006\": 16, \"2007\": 14, \"2008\": 23, \"2009\": 45, \"2010\": 66, \"2011\": 85}\\n    },\\n { \"type\": \"Feature\",\\n    \"id\": 15,\\n        \"geometry\": {\\n            \"type\": \"Point\",\\n            \"coordinates\": [-77.03, 38.89]},\\n    \"properties\": {\"id\": 15, \"name\": \"Washington\", \"lat\": 38.89, \"lon\": -77.03, \"2005\": 33, \"2006\": 45, \"2007\": 68, \"2008\": 96, \"2009\": 102, \"2010\": 82, \"2011\": 74}\\n    }'"
      ]
     },
     "execution_count": 10,
     "metadata": {},
     "output_type": "execute_result"
    }
   ],
   "source": [
    "output"
   ]
  },
  {
   "cell_type": "code",
   "execution_count": 9,
   "metadata": {
    "collapsed": false
   },
   "outputs": [],
   "source": [
    "# strip off the trailing comma & newline\n",
    "if(output.endswith(',\\n')):\n",
    "    output = output.rstrip(',\\n')"
   ]
  },
  {
   "cell_type": "code",
   "execution_count": null,
   "metadata": {
    "collapsed": true
   },
   "outputs": [],
   "source": [
    "# the tail of the geojson file\n",
    "output += \\\n",
    "''' \\\n",
    "    ]\n",
    "}\n",
    "'''"
   ]
  },
  {
   "cell_type": "code",
   "execution_count": null,
   "metadata": {
    "collapsed": true
   },
   "outputs": [],
   "source": [
    "# opens a geojson file to write the output to\n",
    "with open(\"output.geojson\", \"w\") as out_file_handle:\n",
    "    out_file_handle.write(output)"
   ]
  }
 ],
 "metadata": {
  "kernelspec": {
   "display_name": "Python 3",
   "language": "python",
   "name": "python3"
  },
  "language_info": {
   "codemirror_mode": {
    "name": "ipython",
    "version": 3
   },
   "file_extension": ".py",
   "mimetype": "text/x-python",
   "name": "python",
   "nbconvert_exporter": "python",
   "pygments_lexer": "ipython3",
   "version": "3.5.2"
  }
 },
 "nbformat": 4,
 "nbformat_minor": 0
}
